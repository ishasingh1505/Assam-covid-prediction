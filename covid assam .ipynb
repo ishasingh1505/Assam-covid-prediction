{
 "cells": [
  {
   "cell_type": "code",
   "execution_count": 35,
   "metadata": {},
   "outputs": [
    {
     "name": "stdout",
     "output_type": "stream",
     "text": [
      "    RAT  RTPCR  positivity CLASS\n",
      "0    78     22        3.95     B\n",
      "1    62     38        3.33     B\n",
      "2    74     26        3.08     B\n",
      "3    70     30        2.27     B\n",
      "4    72     28        1.86     B\n",
      "5    34     66        1.45     A\n",
      "6    47     53        1.15     A\n",
      "7    19     81        0.87     A\n",
      "8    49     51        0.84     A\n",
      "9    55     45        0.65     A\n",
      "10   64     36        0.49     A\n",
      "11   50     50        0.35     A\n",
      "12   96      4        0.32     A\n",
      "13   88     12        0.26     A\n",
      "14   32     68        0.18     A\n",
      "15   45     55        0.12     A\n",
      "16   99      1        0.04     A\n",
      "    RAT  RTPCR\n",
      "0    78     22\n",
      "1    62     38\n",
      "2    74     26\n",
      "3    70     30\n",
      "4    72     28\n",
      "5    34     66\n",
      "6    47     53\n",
      "7    19     81\n",
      "8    49     51\n",
      "9    55     45\n",
      "10   64     36\n",
      "11   50     50\n",
      "12   96      4\n",
      "13   88     12\n",
      "14   32     68\n",
      "15   45     55\n",
      "16   99      1\n",
      "0     B\n",
      "1     B\n",
      "2     B\n",
      "3     B\n",
      "4     B\n",
      "5     A\n",
      "6     A\n",
      "7     A\n",
      "8     A\n",
      "9     A\n",
      "10    A\n",
      "11    A\n",
      "12    A\n",
      "13    A\n",
      "14    A\n",
      "15    A\n",
      "16    A\n",
      "Name: CLASS, dtype: category\n",
      "Categories (2, object): [A < B]\n"
     ]
    }
   ],
   "source": [
    "#import libraries\n",
    "import pandas as pd\n",
    "import numpy as np\n",
    "import random as rd\n",
    "import matplotlib.pyplot as plt\n",
    "from sklearn.tree import DecisionTreeClassifier\n",
    "from sklearn.model_selection import train_test_split\n",
    "from sklearn.preprocessing  import LabelEncoder \n",
    "data = pd.read_csv('assam.csv')\n",
    "category = pd.cut(data.positivity,bins=[0,1.5,4],labels=['A','B'])\n",
    "data.insert(3,'CLASS',category)\n",
    "print(data)\n",
    "X= data.drop(['positivity','CLASS'],axis=1)\n",
    "Y= data['CLASS']\n",
    "print(X)\n",
    "print(Y)\n"
   ]
  },
  {
   "cell_type": "code",
   "execution_count": 36,
   "metadata": {},
   "outputs": [
    {
     "name": "stdout",
     "output_type": "stream",
     "text": [
      "    RAT  RTPCR\n",
      "1    62     38\n",
      "14   32     68\n",
      "0    78     22\n",
      "16   99      1\n",
      "15   45     55\n",
      "9    55     45\n",
      "8    49     51\n",
      "12   96      4\n",
      "11   50     50\n",
      "5    34     66\n",
      "    RAT  RTPCR\n",
      "3    70     30\n",
      "13   88     12\n",
      "7    19     81\n",
      "2    74     26\n",
      "6    47     53\n",
      "10   64     36\n",
      "4    72     28\n",
      "1     B\n",
      "14    A\n",
      "0     B\n",
      "16    A\n",
      "15    A\n",
      "9     A\n",
      "8     A\n",
      "12    A\n",
      "11    A\n",
      "5     A\n",
      "Name: CLASS, dtype: category\n",
      "Categories (2, object): [A < B]\n",
      "3     B\n",
      "13    A\n",
      "7     A\n",
      "2     B\n",
      "6     A\n",
      "10    A\n",
      "4     B\n",
      "Name: CLASS, dtype: category\n",
      "Categories (2, object): [A < B]\n"
     ]
    }
   ],
   "source": [
    "train_X, test_X, train_Y, test_Y = train_test_split(X,Y,test_size = 0.4,random_state = 1)\n",
    "print(train_X)\n",
    "print(test_X)\n",
    "print(train_Y)\n",
    "print(test_Y)"
   ]
  },
  {
   "cell_type": "code",
   "execution_count": 37,
   "metadata": {},
   "outputs": [
    {
     "name": "stdout",
     "output_type": "stream",
     "text": [
      "Decision Tree 0.8571428571428571\n"
     ]
    }
   ],
   "source": [
    "model= DecisionTreeClassifier()\n",
    "model.fit(train_X,train_Y)\n",
    "print('Decision Tree',model.score(test_X,test_Y))"
   ]
  },
  {
   "cell_type": "code",
   "execution_count": 46,
   "metadata": {},
   "outputs": [
    {
     "name": "stdout",
     "output_type": "stream",
     "text": [
      " KNN 0.8333333333333334\n"
     ]
    }
   ],
   "source": [
    "data = pd.read_csv('assam.csv')\n",
    "train_X, test_X, train_Y, test_Y = train_test_split(X,Y,test_size = 0.3,random_state = 1)\n",
    "X= data.drop(['positivity'],axis=1)\n",
    "Y= data['positivity']\n",
    "from sklearn.neighbors import KNeighborsClassifier\n",
    "model=KNeighborsClassifier(n_neighbors=3)\n",
    "model.fit(train_X,train_Y)\n",
    "print(' KNN',model.score(test_X,test_Y))   "
   ]
  },
  {
   "cell_type": "code",
   "execution_count": 48,
   "metadata": {},
   "outputs": [
    {
     "name": "stdout",
     "output_type": "stream",
     "text": [
      "    RAT  RTPCR  positivity CLASS\n",
      "0    78     22        3.95     B\n",
      "1    62     38        3.33     B\n",
      "2    74     26        3.08     B\n",
      "3    70     30        2.27     B\n",
      "4    72     28        1.86     B\n",
      "5    34     66        1.45     A\n",
      "6    47     53        1.15     A\n",
      "7    19     81        0.87     A\n",
      "8    49     51        0.84     A\n",
      "9    55     45        0.65     A\n",
      "10   64     36        0.49     A\n",
      "11   50     50        0.35     A\n",
      "12   96      4        0.32     A\n",
      "13   88     12        0.26     A\n",
      "14   32     68        0.18     A\n",
      "15   45     55        0.12     A\n",
      "16   99      1        0.04     A\n",
      "SVM: 0.8333333333333334\n"
     ]
    }
   ],
   "source": [
    "data = pd.read_csv('assam.csv')\n",
    "category = pd.cut(data.positivity,bins=[0,1.5,4],labels=['A','B'])\n",
    "data.insert(3,'CLASS',category)\n",
    "print(data)\n",
    "X= data.drop(['positivity','CLASS'],axis=1)\n",
    "Y= data['CLASS']\n",
    "train_X, test_X, train_Y, test_Y = train_test_split(X,Y,test_size = 0.3,random_state = 1)\n",
    "from sklearn import svm\n",
    "model = svm.SVC() \n",
    "model.fit(train_X,train_Y) \n",
    "print('SVM:',model.score(test_X,test_Y))"
   ]
  },
  {
   "cell_type": "code",
   "execution_count": null,
   "metadata": {},
   "outputs": [],
   "source": []
  },
  {
   "cell_type": "code",
   "execution_count": null,
   "metadata": {},
   "outputs": [],
   "source": []
  },
  {
   "cell_type": "code",
   "execution_count": null,
   "metadata": {},
   "outputs": [],
   "source": []
  },
  {
   "cell_type": "code",
   "execution_count": null,
   "metadata": {},
   "outputs": [],
   "source": []
  }
 ],
 "metadata": {
  "kernelspec": {
   "display_name": "Python 3",
   "language": "python",
   "name": "python3"
  },
  "language_info": {
   "codemirror_mode": {
    "name": "ipython",
    "version": 3
   },
   "file_extension": ".py",
   "mimetype": "text/x-python",
   "name": "python",
   "nbconvert_exporter": "python",
   "pygments_lexer": "ipython3",
   "version": "3.8.3"
  }
 },
 "nbformat": 4,
 "nbformat_minor": 4
}
